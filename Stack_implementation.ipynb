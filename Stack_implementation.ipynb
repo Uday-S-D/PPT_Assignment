{
 "cells": [
  {
   "cell_type": "code",
   "execution_count": 2,
   "id": "db72e00d",
   "metadata": {},
   "outputs": [],
   "source": [
    "class Stack:\n",
    "    def __init__(self):\n",
    "        self.stack = []\n",
    "\n",
    "    def push(self, item):\n",
    "        self.stack.append(item)\n",
    "\n",
    "    def pop(self):\n",
    "        if not self.isEmpty():\n",
    "            return self.stack.pop()\n",
    "        else:\n",
    "            raise IndexError(\"Cannot pop from an empty stack\")\n",
    "\n",
    "    def isEmpty(self):\n",
    "        return len(self.stack) == 0\n"
   ]
  },
  {
   "cell_type": "code",
   "execution_count": 3,
   "id": "f88acde5",
   "metadata": {},
   "outputs": [
    {
     "name": "stdout",
     "output_type": "stream",
     "text": [
      "3\n",
      "2\n",
      "1\n",
      "True\n"
     ]
    }
   ],
   "source": [
    "stack = Stack()\n",
    "\n",
    "stack.push(1)\n",
    "stack.push(2)\n",
    "stack.push(3)\n",
    "\n",
    "print(stack.pop())  # Output: 3\n",
    "print(stack.pop())  # Output: 2\n",
    "print(stack.pop())  # Output: 1\n",
    "\n",
    "print(stack.isEmpty())  # Output: True\n"
   ]
  },
  {
   "cell_type": "code",
   "execution_count": 4,
   "id": "475dbb39",
   "metadata": {},
   "outputs": [],
   "source": [
    "class Queue:\n",
    "    def __init__(self):\n",
    "        self.queue = []\n",
    "\n",
    "    def enqueue(self, item):\n",
    "        self.queue.append(item)\n",
    "\n",
    "    def dequeue(self):\n",
    "        if not self.isEmpty():\n",
    "            return self.queue.pop(0)\n",
    "        else:\n",
    "            raise IndexError(\"Cannot dequeue from an empty queue\")\n",
    "\n",
    "    def isEmpty(self):\n",
    "        return len(self.queue) == 0\n"
   ]
  },
  {
   "cell_type": "code",
   "execution_count": 5,
   "id": "cd1569e5",
   "metadata": {},
   "outputs": [
    {
     "name": "stdout",
     "output_type": "stream",
     "text": [
      "1\n",
      "2\n",
      "3\n",
      "True\n"
     ]
    }
   ],
   "source": [
    "queue = Queue()\n",
    "\n",
    "queue.enqueue(1)\n",
    "queue.enqueue(2)\n",
    "queue.enqueue(3)\n",
    "\n",
    "print(queue.dequeue())  # Output: 1\n",
    "print(queue.dequeue())  # Output: 2\n",
    "print(queue.dequeue())  # Output: 3\n",
    "\n",
    "print(queue.isEmpty())  # Output: True\n"
   ]
  },
  {
   "cell_type": "code",
   "execution_count": null,
   "id": "89c2ad3f",
   "metadata": {},
   "outputs": [],
   "source": []
  }
 ],
 "metadata": {
  "kernelspec": {
   "display_name": "Python 3 (ipykernel)",
   "language": "python",
   "name": "python3"
  },
  "language_info": {
   "codemirror_mode": {
    "name": "ipython",
    "version": 3
   },
   "file_extension": ".py",
   "mimetype": "text/x-python",
   "name": "python",
   "nbconvert_exporter": "python",
   "pygments_lexer": "ipython3",
   "version": "3.9.12"
  }
 },
 "nbformat": 4,
 "nbformat_minor": 5
}
